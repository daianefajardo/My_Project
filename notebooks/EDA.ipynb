{
 "cells": [
  {
   "cell_type": "code",
   "execution_count": 8,
   "metadata": {},
   "outputs": [],
   "source": [
    "import pandas as pd\n",
    "import plotly.express as px\n",
    "import plotly.io as pio\n",
    "\n",
    "pio.renderers.default = \"browser\"  # Isso vai abrir o gráfico no navegador padrão\n",
    "\n",
    "car_data = pd.read_csv(r'C:\\Users\\daian\\Documents\\GitHub\\My_Project\\vehicles.csv') # lendo os dados\n",
    "fig = px.histogram(car_data, x=\"odometer\", y=\"price\") # criar um histograma\n",
    "fig.show() # exibindo o gráfico\n"
   ]
  }
 ],
 "metadata": {
  "kernelspec": {
   "display_name": "Python 3",
   "language": "python",
   "name": "python3"
  },
  "language_info": {
   "codemirror_mode": {
    "name": "ipython",
    "version": 3
   },
   "file_extension": ".py",
   "mimetype": "text/x-python",
   "name": "python",
   "nbconvert_exporter": "python",
   "pygments_lexer": "ipython3",
   "version": "3.10.1"
  }
 },
 "nbformat": 4,
 "nbformat_minor": 2
}
